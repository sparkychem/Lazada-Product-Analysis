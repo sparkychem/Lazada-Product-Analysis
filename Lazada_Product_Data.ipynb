{
 "cells": [
  {
   "cell_type": "code",
   "execution_count": 4,
   "id": "52cd511d",
   "metadata": {},
   "outputs": [],
   "source": [
    "import numpy as np\n",
    "import pandas as pd\n",
    "import statistics as sta\n",
    "from scipy import stats\n",
    "import matplotlib.pyplot as plt\n",
    "import statsmodels.api as sm\n",
    "import seaborn as sns"
   ]
  },
  {
   "cell_type": "code",
   "execution_count": 2,
   "id": "b7c06c1a",
   "metadata": {},
   "outputs": [
    {
     "data": {
      "text/html": [
       "<div>\n",
       "<style scoped>\n",
       "    .dataframe tbody tr th:only-of-type {\n",
       "        vertical-align: middle;\n",
       "    }\n",
       "\n",
       "    .dataframe tbody tr th {\n",
       "        vertical-align: top;\n",
       "    }\n",
       "\n",
       "    .dataframe thead th {\n",
       "        text-align: right;\n",
       "    }\n",
       "</style>\n",
       "<table border=\"1\" class=\"dataframe\">\n",
       "  <thead>\n",
       "    <tr style=\"text-align: right;\">\n",
       "      <th></th>\n",
       "      <th>p_brand</th>\n",
       "      <th>p_cate</th>\n",
       "      <th>p_image</th>\n",
       "      <th>p_mall</th>\n",
       "      <th>p_name</th>\n",
       "      <th>p_number_reviews</th>\n",
       "      <th>p_price</th>\n",
       "      <th>p_rate1star</th>\n",
       "      <th>p_rate2star</th>\n",
       "      <th>p_rate3star</th>\n",
       "      <th>p_rate4star</th>\n",
       "      <th>p_rate5star</th>\n",
       "      <th>p_rating</th>\n",
       "      <th>s_name</th>\n",
       "      <th>s_rating</th>\n",
       "      <th>s_response_rate</th>\n",
       "      <th>s_ship_ontime</th>\n",
       "    </tr>\n",
       "  </thead>\n",
       "  <tbody>\n",
       "    <tr>\n",
       "      <th>0</th>\n",
       "      <td>Dell</td>\n",
       "      <td>Máy vi tính &amp; Laptop</td>\n",
       "      <td>//vn-live-05.slatic.net/p/ab973a529b50491bb63a...</td>\n",
       "      <td>Mall</td>\n",
       "      <td>Laptop Dell Inspiron 7400 14.5 inches IPS QHD ...</td>\n",
       "      <td>Không có đánh giá</td>\n",
       "      <td>31.490.000 ₫</td>\n",
       "      <td>0.0</td>\n",
       "      <td>0.0</td>\n",
       "      <td>0.0</td>\n",
       "      <td>0.0</td>\n",
       "      <td>0.0</td>\n",
       "      <td>0.0</td>\n",
       "      <td>DELL Official Retail Store</td>\n",
       "      <td>88%</td>\n",
       "      <td>100%</td>\n",
       "      <td>100%</td>\n",
       "    </tr>\n",
       "    <tr>\n",
       "      <th>1</th>\n",
       "      <td>HP</td>\n",
       "      <td>Máy vi tính &amp; Laptop</td>\n",
       "      <td>//vn-live-05.slatic.net/p/0fc9119358dc21cb9dcd...</td>\n",
       "      <td>Mall</td>\n",
       "      <td>Laptop HP ProBook 450 G8 2H0Y1PA (Core i7-1165...</td>\n",
       "      <td>Không có đánh giá</td>\n",
       "      <td>31.490.000 ₫</td>\n",
       "      <td>0.0</td>\n",
       "      <td>0.0</td>\n",
       "      <td>0.0</td>\n",
       "      <td>0.0</td>\n",
       "      <td>0.0</td>\n",
       "      <td>0.0</td>\n",
       "      <td>An Phát HP</td>\n",
       "      <td>94%</td>\n",
       "      <td>89%</td>\n",
       "      <td>100%</td>\n",
       "    </tr>\n",
       "    <tr>\n",
       "      <th>2</th>\n",
       "      <td>HP</td>\n",
       "      <td>Máy vi tính &amp; Laptop</td>\n",
       "      <td>//vn-live-05.slatic.net/p/1063855536ce9dfae5dc...</td>\n",
       "      <td>Mall</td>\n",
       "      <td>Laptop HP 14s-fq1080AU 4K0Z7PA (Ryzen 3-5300U ...</td>\n",
       "      <td>1 đánh giá</td>\n",
       "      <td>12.390.000 ₫</td>\n",
       "      <td>0.0</td>\n",
       "      <td>0.0</td>\n",
       "      <td>0.0</td>\n",
       "      <td>0.0</td>\n",
       "      <td>1.0</td>\n",
       "      <td>5.0</td>\n",
       "      <td>An Phát HP</td>\n",
       "      <td>94%</td>\n",
       "      <td>89%</td>\n",
       "      <td>100%</td>\n",
       "    </tr>\n",
       "    <tr>\n",
       "      <th>3</th>\n",
       "      <td>Dell</td>\n",
       "      <td>Máy vi tính &amp; Laptop</td>\n",
       "      <td>//vn-live-05.slatic.net/p/756f7f7aeb632324816e...</td>\n",
       "      <td>Non-Mall</td>\n",
       "      <td>Brand New Dell Alienware M17 R4 - 17.3\" 4K UHD...</td>\n",
       "      <td>Không có đánh giá</td>\n",
       "      <td>23.000.000 ₫</td>\n",
       "      <td>0.0</td>\n",
       "      <td>0.0</td>\n",
       "      <td>0.0</td>\n",
       "      <td>0.0</td>\n",
       "      <td>0.0</td>\n",
       "      <td>0.0</td>\n",
       "      <td>GADGETSHUB PLC</td>\n",
       "      <td>NaN</td>\n",
       "      <td>66%</td>\n",
       "      <td>100%</td>\n",
       "    </tr>\n",
       "    <tr>\n",
       "      <th>4</th>\n",
       "      <td>OnePlus</td>\n",
       "      <td>Máy vi tính &amp; Laptop</td>\n",
       "      <td>//vn-live-05.slatic.net/p/ec69d1bd94b9e41f3f37...</td>\n",
       "      <td>Non-Mall</td>\n",
       "      <td>Brand New OnePlus 9 Pro - 256GB - Morning Mist...</td>\n",
       "      <td>Không có đánh giá</td>\n",
       "      <td>8.000.000 ₫</td>\n",
       "      <td>0.0</td>\n",
       "      <td>0.0</td>\n",
       "      <td>0.0</td>\n",
       "      <td>0.0</td>\n",
       "      <td>0.0</td>\n",
       "      <td>0.0</td>\n",
       "      <td>GADGETSHUB PLC</td>\n",
       "      <td>NaN</td>\n",
       "      <td>66%</td>\n",
       "      <td>100%</td>\n",
       "    </tr>\n",
       "  </tbody>\n",
       "</table>\n",
       "</div>"
      ],
      "text/plain": [
       "   p_brand                p_cate  \\\n",
       "0     Dell  Máy vi tính & Laptop   \n",
       "1       HP  Máy vi tính & Laptop   \n",
       "2       HP  Máy vi tính & Laptop   \n",
       "3     Dell  Máy vi tính & Laptop   \n",
       "4  OnePlus  Máy vi tính & Laptop   \n",
       "\n",
       "                                             p_image    p_mall  \\\n",
       "0  //vn-live-05.slatic.net/p/ab973a529b50491bb63a...      Mall   \n",
       "1  //vn-live-05.slatic.net/p/0fc9119358dc21cb9dcd...      Mall   \n",
       "2  //vn-live-05.slatic.net/p/1063855536ce9dfae5dc...      Mall   \n",
       "3  //vn-live-05.slatic.net/p/756f7f7aeb632324816e...  Non-Mall   \n",
       "4  //vn-live-05.slatic.net/p/ec69d1bd94b9e41f3f37...  Non-Mall   \n",
       "\n",
       "                                              p_name   p_number_reviews  \\\n",
       "0  Laptop Dell Inspiron 7400 14.5 inches IPS QHD ...  Không có đánh giá   \n",
       "1  Laptop HP ProBook 450 G8 2H0Y1PA (Core i7-1165...  Không có đánh giá   \n",
       "2  Laptop HP 14s-fq1080AU 4K0Z7PA (Ryzen 3-5300U ...         1 đánh giá   \n",
       "3  Brand New Dell Alienware M17 R4 - 17.3\" 4K UHD...  Không có đánh giá   \n",
       "4  Brand New OnePlus 9 Pro - 256GB - Morning Mist...  Không có đánh giá   \n",
       "\n",
       "        p_price  p_rate1star  p_rate2star  p_rate3star  p_rate4star  \\\n",
       "0  31.490.000 ₫          0.0          0.0          0.0          0.0   \n",
       "1  31.490.000 ₫          0.0          0.0          0.0          0.0   \n",
       "2  12.390.000 ₫          0.0          0.0          0.0          0.0   \n",
       "3  23.000.000 ₫          0.0          0.0          0.0          0.0   \n",
       "4   8.000.000 ₫          0.0          0.0          0.0          0.0   \n",
       "\n",
       "   p_rate5star  p_rating                      s_name s_rating s_response_rate  \\\n",
       "0          0.0       0.0  DELL Official Retail Store      88%            100%   \n",
       "1          0.0       0.0                  An Phát HP      94%             89%   \n",
       "2          1.0       5.0                  An Phát HP      94%             89%   \n",
       "3          0.0       0.0              GADGETSHUB PLC      NaN             66%   \n",
       "4          0.0       0.0              GADGETSHUB PLC      NaN             66%   \n",
       "\n",
       "  s_ship_ontime  \n",
       "0          100%  \n",
       "1          100%  \n",
       "2          100%  \n",
       "3          100%  \n",
       "4          100%  "
      ]
     },
     "execution_count": 2,
     "metadata": {},
     "output_type": "execute_result"
    }
   ],
   "source": [
    "df = pd.read_csv('LazadaProductData.csv')\n",
    "df.head()"
   ]
  },
  {
   "cell_type": "code",
   "execution_count": 13,
   "id": "5e7acde3",
   "metadata": {},
   "outputs": [],
   "source": [
    "price = df[\"p_price\"]\n",
    "new_price = []\n",
    "for item in price:\n",
    "    item = str(item)\n",
    "    if \".\" in item:\n",
    "        item = item.replace(\".\",\"\")\n",
    "    if item[-1]==\"₫\":  \n",
    "        item = item.replace(\"₫\",\"\")\n",
    "    item = item.strip()    \n",
    "    new_price.append(int(item))\n",
    "df[\"p_price\"] = new_price"
   ]
  },
  {
   "cell_type": "code",
   "execution_count": 14,
   "id": "e1c7322d",
   "metadata": {},
   "outputs": [],
   "source": [
    "def stat_table(a,title_plt=\"\"):\n",
    "    x = df.groupby(a)[a].count()\n",
    "    dt = pd.DataFrame(x)\n",
    "    dt.columns = ['quantity']\n",
    "    count = []\n",
    "    for i in dt['quantity']:\n",
    "        x = i\n",
    "        count.append(round(x))\n",
    "    dt['quantity'] = count\n",
    "    print(dt)\n",
    "    mylabels = dt.index\n",
    "    plt.figure(figsize = (10, 4))\n",
    "    plt.title(title_plt, fontsize = 20, color = 'red')\n",
    "    sns.barplot(count, mylabels, df = dt, orient = 'h')"
   ]
  },
  {
   "cell_type": "code",
   "execution_count": 19,
   "id": "d445b656",
   "metadata": {},
   "outputs": [],
   "source": [
    "# Filter produk beradadrkan price range\n",
    "price_cate = df[\"p_price\"]\n",
    "# Klasifikasi harga produk\n",
    "list_cate = [\"Produk Harga 0 - 10K\",\"Produk Harga 10K - 100K\",\"Produk Harga 100K - 1M\",\"Produk Harga 1M - 10M\",\"Produk Harga Lebih Dari 10M\"]\n",
    "count_list_cate = [0, 0, 0, 0, 0]\n",
    "count_price_cate = []\n",
    "for item in price_cate:\n",
    "    if item<10000:\n",
    "        count_list_cate[0] = count_list_cate[0] +1\n",
    "    elif item<100000:\n",
    "        count_list_cate[1] = count_list_cate[1] +1\n",
    "    elif item<1000000:\n",
    "        count_list_cate[2] = count_list_cate[2] +1\n",
    "    elif item<10000000:\n",
    "        count_list_cate[3] = count_list_cate[3] +1\n",
    "    else:\n",
    "        count_list_cate[4] = count_list_cate[4] +1\n",
    "# Calculate percent\n",
    "for item in count_list_cate:\n",
    "    count_price_cate.append(round(item))\n",
    "    \n",
    "def barplot_a(count, list_cate):\n",
    "    price_df = pd.Series(count, index=list_cate)\n",
    "    print(price_df)\n",
    "    mylabels = price_df.index\n",
    "    plt.figure(figsize = (10, 4))\n",
    "    plt.title('Price ranges of products', fontsize = 20, color = 'red')\n",
    "    sns.barplot(price_df, mylabels, orient = 'h')"
   ]
  },
  {
   "cell_type": "code",
   "execution_count": 20,
   "id": "6852bb48",
   "metadata": {},
   "outputs": [],
   "source": [
    "def barplot_b(column,title=\"\"):\n",
    "    data_check = df[column]\n",
    "    brand_list_check = []           \n",
    "    quantity_list_check = []        \n",
    "\n",
    "    for item in data_check:                                                 \n",
    "        if item not in brand_list_check:                                        \n",
    "            brand_list_check.append(item)                                          \n",
    "            quantity_list_check.append(1)                                       \n",
    "        else:                                                                   \n",
    "            index = brand_list_check.index(item)                                \n",
    "            quantity_list_check[index] = quantity_list_check[index]+1       \n",
    "\n",
    "    quantity = []       \n",
    "    brand = []          \n",
    "\n",
    "    for item in range(len(quantity_list_check)):                                                                \n",
    "        count = quantity_list_check[item]\n",
    "        name_brand = brand_list_check[item]\n",
    "        if count<15:                                     \n",
    "            name_brand = \"Small Brand\"                            \n",
    "\n",
    "        if name_brand not in brand:                        \n",
    "            brand.append(name_brand)                               \n",
    "            quantity.append(count)                             \n",
    "        else:                                                  \n",
    "            index = brand.index(name_brand)                     \n",
    "            quantity[index] = quantity[index] + count       \n",
    "\n",
    "    brand_df = pd.Series(quantity, index=brand) \n",
    "    brand_df = brand_df.sort_values()       \n",
    "    print(brand_df)\n",
    "    mylabels = brand_df.index\n",
    "    plt.figure(figsize = (10, 4))\n",
    "    plt.title(title, fontsize = 20, color = 'red')\n",
    "    sns.barplot(brand_df, mylabels, orient = 'h')"
   ]
  },
  {
   "cell_type": "code",
   "execution_count": 21,
   "id": "6204e1ee",
   "metadata": {},
   "outputs": [
    {
     "name": "stdout",
     "output_type": "stream",
     "text": [
      "Produk Harga 0 - 10K            147\n",
      "Produk Harga 10K - 100K         658\n",
      "Produk Harga 100K - 1M         1000\n",
      "Produk Harga 1M - 10M           489\n",
      "Produk Harga Lebih Dari 10M     196\n",
      "dtype: int64\n"
     ]
    },
    {
     "name": "stderr",
     "output_type": "stream",
     "text": [
      "C:\\Users\\Iman\\AppData\\Local\\Programs\\Python\\Python310\\lib\\site-packages\\seaborn\\_decorators.py:36: FutureWarning: Pass the following variables as keyword args: x, y. From version 0.12, the only valid positional argument will be `data`, and passing other arguments without an explicit keyword will result in an error or misinterpretation.\n",
      "  warnings.warn(\n"
     ]
    },
    {
     "data": {
      "image/png": "[encoded data removed]",
      "text/plain": [
       "<Figure size 720x288 with 1 Axes>"
      ]
     },
     "metadata": {
      "needs_background": "light"
     },
     "output_type": "display_data"
    }
   ],
   "source": [
    "# barplot price range\n",
    "barplot_a(count_price_cate, list_cate)"
   ]
  },
  {
   "cell_type": "code",
   "execution_count": null,
   "id": "b99b0089",
   "metadata": {},
   "outputs": [],
   "source": [
    "# Produk dengan harga 100K - 1M lebih dominan dari yang lain"
   ]
  },
  {
   "cell_type": "code",
   "execution_count": 22,
   "id": "6a2d1871",
   "metadata": {},
   "outputs": [
    {
     "name": "stdout",
     "output_type": "stream",
     "text": [
      "Total Brands: 2490\n",
      "MAC              15\n",
      "Epson            16\n",
      "TP-Link          17\n",
      "amazfit          19\n",
      "GoPro            22\n",
      "Microsoft        22\n",
      "IMOU             32\n",
      "Apple            34\n",
      "Xiaomi           39\n",
      "Samsung          40\n",
      "HP               48\n",
      "yoosee           65\n",
      "Ezviz            81\n",
      "Dell            107\n",
      "Small Brand     425\n",
      "OEM             426\n",
      "No Brand       1082\n",
      "dtype: int64\n"
     ]
    },
    {
     "name": "stderr",
     "output_type": "stream",
     "text": [
      "C:\\Users\\Iman\\AppData\\Local\\Programs\\Python\\Python310\\lib\\site-packages\\seaborn\\_decorators.py:36: FutureWarning: Pass the following variables as keyword args: x, y. From version 0.12, the only valid positional argument will be `data`, and passing other arguments without an explicit keyword will result in an error or misinterpretation.\n",
      "  warnings.warn(\n"
     ]
    },
    {
     "data": {
      "image/png": "[encoded data removed]",
      "text/plain": [
       "<Figure size 720x288 with 1 Axes>"
      ]
     },
     "metadata": {
      "needs_background": "light"
     },
     "output_type": "display_data"
    }
   ],
   "source": [
    "total_brand = df[\"p_brand\"]\n",
    "print(f\"Total Brands: {len(total_brand)}\")\n",
    "barplot_b('p_brand',\"Brands of products\")"
   ]
  },
  {
   "cell_type": "code",
   "execution_count": null,
   "id": "babde23f",
   "metadata": {},
   "outputs": [],
   "source": [
    "# Brand yang dominan adalah tanpa brand"
   ]
  }
 ],
 "metadata": {
  "kernelspec": {
   "display_name": "Python 3 (ipykernel)",
   "language": "python",
   "name": "python3"
  },
  "language_info": {
   "codemirror_mode": {
    "name": "ipython",
    "version": 3
   },
   "file_extension": ".py",
   "mimetype": "text/x-python",
   "name": "python",
   "nbconvert_exporter": "python",
   "pygments_lexer": "ipython3",
   "version": "3.10.2"
  }
 },
 "nbformat": 4,
 "nbformat_minor": 5
}
